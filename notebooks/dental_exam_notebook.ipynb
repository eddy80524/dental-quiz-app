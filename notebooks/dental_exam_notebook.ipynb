{
 "cells": [
  {
   "cell_type": "markdown",
   "id": "e0bc49e5",
   "metadata": {},
   "source": [
    "# 歯科医師国家試験データ活用ノートブック\n",
    "\n",
    "このノートブックは、`data/`配下の歯科国試JSON（`dental_*.json`）を直接読み込み、画像URLもそのままNotebookやStreamlitで表示します。"
   ]
  },
  {
   "cell_type": "code",
   "execution_count": null,
   "id": "bb00574b",
   "metadata": {},
   "outputs": [],
   "source": [
    "import json\n",
    "import streamlit as st\n",
    "from dental_tools import get_question, get_answer\n",
    "\n",
    "# 質問リスト読み込み\n",
    "with open('data/dental_questions.json', 'r', encoding='utf-8') as f:\n",
    "    questions = json.load(f)\n",
    "\n",
    "# 問題選択\n",
    "sel = st.selectbox('問題番号を選択', [q['number'] for q in questions])\n",
    "rec = next(q for q in questions if q['number'] == sel)\n",
    "\n",
    "st.markdown(f\"### 問題 {rec['number']}\")\n",
    "st.write(rec['question'])\n",
    "if rec.get('choices'):\n",
    "    for i, c in enumerate(rec['choices']):\n",
    "        st.write(f\"{chr(65+i)}. {c}\")\n",
    "\n",
    "# 画像があればURLのまま表示\n",
    "if rec.get('image_urls'):\n",
    "    for url in rec['image_urls']:\n",
    "        if url:\n",
    "            st.image(url, use_column_width=True)"
   ]
  },
  {
   "cell_type": "markdown",
   "id": "5c0dc5b3",
   "metadata": {},
   "source": [
    "## ツール定義（dental_tools.py）\n",
    "\n",
    "`get_question_details(question_number: str) -> dict|None` などの関数は `dental_tools.py` で実装し、Notebook先頭でインポートします。"
   ]
  },
  {
   "cell_type": "code",
   "execution_count": null,
   "id": "d94c689e",
   "metadata": {},
   "outputs": [],
   "source": [
    "# dental_tools.py の例\n",
    "import json\n",
    "\n",
    "def get_question_details(question_number: str):\n",
    "    with open('data/dental_questions.json', 'r', encoding='utf-8') as f:\n",
    "        questions = json.load(f)\n",
    "    for q in questions:\n",
    "        if q['number'] == question_number:\n",
    "            return q\n",
    "    return None\n",
    "\n",
    "def get_question(question_number: str) -> str:\n",
    "    q = get_question_details(question_number)\n",
    "    if not q:\n",
    "        return ''\n",
    "    s = q['question']\n",
    "    if q.get('choices'):\n",
    "        s += '\\n' + '\\n'.join([f\"{chr(65+i)}. {c}\" for i, c in enumerate(q['choices'])])\n",
    "    return s\n",
    "\n",
    "def get_answer(question_number: str) -> str:\n",
    "    q = get_question_details(question_number)\n",
    "    if not q:\n",
    "        return ''\n",
    "    return str(q.get('answer', ''))"
   ]
  },
  {
   "cell_type": "markdown",
   "id": "e59cd0e9",
   "metadata": {},
   "source": [
    "## 歯科国試版 run_conversation のシステムプロンプト例"
   ]
  },
  {
   "cell_type": "code",
   "execution_count": null,
   "id": "fc236b48",
   "metadata": {},
   "outputs": [],
   "source": [
    "system_prompt = '''\\\n",
    "あなたは歯科医師国家試験の出題管理アシスタントです。\n",
    "ユーザーが問題文や正答を求めたら、必ず下記の関数を呼び出し、\n",
    "自力で推測せずに回答してください。\n",
    "  - get_question(question_number)\n",
    "  - get_answer(question_number)\n",
    "ただし「自分の考えで解いてほしい」と指示があれば、関数を使わず自力で解答してください。\n",
    "'''"
   ]
  },
  {
   "cell_type": "markdown",
   "id": "3bef1b3f",
   "metadata": {},
   "source": [
    "## ツール定義ブロック"
   ]
  },
  {
   "cell_type": "code",
   "execution_count": null,
   "id": "68a54ff3",
   "metadata": {},
   "outputs": [],
   "source": [
    "tools = [\n",
    "  {\n",
    "    \"type\": \"function\",\n",
    "    \"function\": {\n",
    "      \"name\": \"get_question\",\n",
    "      \"description\": \"問題番号を受け取り、問題文と選択肢を返す\",\n",
    "      \"parameters\": {\n",
    "        \"type\": \"object\",\n",
    "        \"properties\": {\n",
    "          \"question_number\": {\n",
    "            \"type\": \"string\",\n",
    "            \"description\": \"問題番号（例: '118A45', '117B12'）\"\n",
    "          }\n",
    "        },\n",
    "        \"required\": [\"question_number\"]\n",
    "      }\n",
    "    }\n",
    "  },\n",
    "  {\n",
    "    \"type\": \"function\",\n",
    "    \"function\": {\n",
    "      \"name\": \"get_answer\",\n",
    "      \"description\": \"問題番号を受け取り、正答を返す\",\n",
    "      \"parameters\": {\n",
    "        \"type\": \"object\",\n",
    "        \"properties\": {\n",
    "          \"question_number\": {\n",
    "            \"type\": \"string\",\n",
    "            \"description\": \"問題番号（例: '118A45', '117B12'）\"\n",
    "          }\n",
    "        },\n",
    "        \"required\": [\"question_number\"]\n",
    "      }\n",
    "    }\n",
    "  }\n",
    "]\n",
    "available_functions = {\n",
    "  \"get_question\": get_question,\n",
    "  \"get_answer\": get_answer\n",
    "}"
   ]
  }
 ],
 "metadata": {
  "language_info": {
   "name": "python"
  }
 },
 "nbformat": 4,
 "nbformat_minor": 5
}
